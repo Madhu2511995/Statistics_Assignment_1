{
 "cells": [
  {
   "cell_type": "markdown",
   "id": "9c7fb6df-29d2-4428-9c5e-bfa91b62723d",
   "metadata": {},
   "source": [
    "#### Q1. What is Statistics?\n",
    "\n",
    "#### Q2. Define the different types of statistics and give an example of when each type might be used.\n",
    "\n",
    "#### Q3. What are the different types of data and how do they differ from each other? Provide an example of each type of data.\n",
    "\n",
    "#### Q4. Categorise the following datasets with respect to quantitative and qualitative data types:\n",
    "#### (i) Grading in exam: A+, A, B+, B, C+, C, D, E\n",
    "#### (ii) Colour of mangoes: yellow, green, orange, red\n",
    "#### (iii) Height data of a class: [178.9, 179, 179.5, 176, 177.2, 178.3, 175.8,...]\n",
    "#### (iv) Number of mangoes exported by a farm: [500, 600, 478, 672, ...]\n",
    "\n",
    "#### Q5. Explain the concept of levels of measurement and give an example of a variable for each level.\n",
    "\n",
    "#### Q6. Why is it important to understand the level of measurement when analyzing data? Provide an example to illustrate your answer.\n",
    "\n",
    "#### Q7. How nominal data type is different from ordinal data type.\n",
    "\n",
    "#### Q8. Which type of plot can be used to display data in terms of range?\n",
    "\n",
    "#### Q9. Describe the difference between descriptive and inferential statistics. Give an example of each type of statistics and explain how they are used.\n",
    " \n",
    "#### Q10. What are some common measures of central tendency and variability used in statistics? Explain how each measure can be used to describe a dataset.\n"
   ]
  },
  {
   "cell_type": "markdown",
   "id": "60dd6d11-97d0-49d2-bfe5-8bc0815d8667",
   "metadata": {},
   "source": [
    "# Answers"
   ]
  },
  {
   "cell_type": "markdown",
   "id": "63c751c4-25eb-4394-89fe-6b57fb1f0888",
   "metadata": {},
   "source": [
    "#### Q1. What is Statistics?"
   ]
  },
  {
   "cell_type": "markdown",
   "id": "bb930b58-0ce7-4b70-9529-9ec414885c93",
   "metadata": {},
   "source": [
    "Statistics is the science of collectiing organizing and analyzing the data."
   ]
  },
  {
   "cell_type": "markdown",
   "id": "6689574a-e5af-4a5b-afc7-ecce8e9e76ac",
   "metadata": {},
   "source": [
    "### Q2. Define the different types of statistics and give an example of when each type might be used"
   ]
  },
  {
   "cell_type": "markdown",
   "id": "21687a8d-228c-4118-9bea-f471d5107ca7",
   "metadata": {},
   "source": [
    "There are two main types of statistics: descriptive statistics and inferential statistics.\n",
    "\n",
    "#### Descriptive Statistics : \n",
    "Descriptive statistics involve methods used to summarize and describe the main features of a dataset. These methods include measures of central tendency (e.g., mean, median, mode), measures of variability (e.g., range, variance, standard deviation), and graphical representations (e.g., histograms, bar charts, pie charts) that help in understanding the distribution and characteristics of the data.\n",
    "\n",
    "#### Inferential Statistics : \n",
    "Inferential statistics, on the other hand, involve drawing conclusions and making predictions about a population based on a sample of data. It allows researchers to make generalizations and test hypotheses, taking into account the inherent variability in the data. Techniques such as hypothesis testing, confidence intervals, regression analysis, and analysis of variance (ANOVA) are common tools in inferential statistics."
   ]
  },
  {
   "cell_type": "markdown",
   "id": "b243fc03-a03e-45b3-91a8-0366bb003b17",
   "metadata": {},
   "source": [
    "### Q3. What are the different types of data and how do they differ from each other? Provide an example of each type of data."
   ]
  },
  {
   "cell_type": "markdown",
   "id": "478b0120-8e46-477f-8764-1321a674594d",
   "metadata": {},
   "source": [
    "There are two main types of Data: Qunatative and Qualtative data."
   ]
  },
  {
   "cell_type": "markdown",
   "id": "1e3a1e4d-afa2-420e-91d5-37244fe78efd",
   "metadata": {},
   "source": [
    "#### Qunatative\n",
    "This type of data are numaric data and it also divide into two part\n",
    "\n",
    "#### A. Discrete data :\n",
    "---------------------------------------------------------------\n",
    "Discrete data is a type of data that can only take on specific, separate values within a finite or countable set of possibilities. These values are often whole numbers or integers.Discrete data has distinct and separate values with no intermediate values between them.\n",
    "\n",
    "Examples of discrete data:\n",
    "\n",
    "1. Number of siblings:\n",
    "This data can only take on whole number values (0, 1, 2, 3, etc.), and you cannot have, for example, 2.5 siblings.\n",
    "\n",
    "2. Dice roll: \n",
    "When rolling a six-sided die, the possible outcomes are 1, 2, 3, 4, 5, or 6, with no fractions or decimals in between.\n",
    "\n",
    "3. Number of cars in a parking lot:\n",
    "The number of cars can only be a whole number, and you cannot have a fraction of a car.\n",
    "\n",
    "4. Number of books on a shelf: \n",
    "You can count the books on a shelf, and the count will be a whole number.\n",
    "\n",
    "####  B. Continous Data :\n",
    "-------------------------------------------------------------------\n",
    "Continuous data is a type of data that can take on any value within a specific range or interval. Continuous data can have an infinite number of possible values, including decimals and fractions. Continuous data is typically measured, not counted, and is often associated with measurements from a scale or a measuring instrument.\n",
    "\n",
    "Examples of continuous data:\n",
    "\n",
    "1. Height: \n",
    "The height of a person can take on any value within a range, such as 150.2 cm, 165.7 cm, 178.5 cm, and so on, including fractional values.\n",
    "\n",
    "2. Weight: \n",
    "Weight measurements can have decimal values, such as 58.3 kg, 72.9 kg, 84.6 kg, etc.\n",
    "\n",
    "3. Temperature: \n",
    "Temperature readings, such as 23.5°C or 32.1°F, can have decimal values and can vary continuously within a range.\n",
    "\n",
    "4. Time: \n",
    "Time measurements are continuous, such as 2.35 seconds, 12.78 minutes, or 8.2 hours.\n",
    "\n",
    "5. Length of an object: \n",
    "The length of an object can have any value within a specified range and is continuous.\n"
   ]
  },
  {
   "cell_type": "markdown",
   "id": "1fe14d6e-d630-4ae6-a915-a3d6a7e3d41a",
   "metadata": {},
   "source": [
    "#### Qualitative Data:\n",
    "\n",
    "This type of data are catagorical data and it also divide into two part\n",
    "\n",
    "#### 1. Nominal Data :\n",
    "-------------------------------\n",
    "Nominal data, also known as categorical data, consists of categories or labels that do not have any inherent order or numerical value. Each category represents a distinct group, and there is no quantitative meaning associated with the data points. Nominal data is often used to represent qualities or attributes.\n",
    "\n",
    "###### Example: \n",
    "Eye color of a group of individuals (e.g., blue, brown, green) or the type of fruit (e.g., apple, banana, orange) purchased by customers.\n",
    "\n",
    "#### Ordinal Data :\n",
    "-----------------------------------\n",
    "Ordinal data also represents categories, but unlike nominal data, these categories have a meaningful order or ranking. The differences between categories are not quantifiable, but there is a sense of relative positioning.\n",
    "\n",
    "###### Example:\n",
    "Educational levels (e.g., high school diploma, bachelor's degree, master's degree), where there is an order, but the actual difference between the categories is not defined.\n"
   ]
  },
  {
   "cell_type": "markdown",
   "id": "3d67ee4b-1809-4179-8f36-f807c94879a9",
   "metadata": {},
   "source": [
    "### Q4. Categorise the following datasets with respect to quantitative and qualitative data types:\n",
    "### (i) Grading in exam: A+, A, B+, B, C+, C, D, E\n",
    "### (ii) Colour of mangoes: yellow, green, orange, red\n",
    "### (iii) Height data of a class: [178.9, 179, 179.5, 176, 177.2, 178.3, 175.8,...]\n",
    "### (iv) Number of mangoes exported by a farm: [500, 600, 478, 672, ...]"
   ]
  },
  {
   "cell_type": "markdown",
   "id": "f0597aa1-227c-4d9e-a6f2-e2b9eb9618bd",
   "metadata": {},
   "source": [
    "##### quantitative: Height,Number of mangoes exported by a farm\n",
    "\n",
    "##### qualitative: Grading in exam ,Colour of mangoes"
   ]
  },
  {
   "cell_type": "markdown",
   "id": "b826c01b-43ab-46d1-8020-d696d804a61f",
   "metadata": {},
   "source": [
    "### Q5. Explain the concept of levels of measurement and give an example of a variable for each level."
   ]
  },
  {
   "cell_type": "markdown",
   "id": "b1710041-c7e3-4502-9d62-2cd4fc104318",
   "metadata": {},
   "source": [
    "### level of measurement :\n",
    "The level of measurement, also known as the scale of measurement or data level, refers to the nature and properties of the data being collected or analyzed. It classifies data into different categories based on the characteristics and restrictions of the values it can take. Understanding the level of measurement is essential as it determines the types of statistical analyses and operations that can be applied to the data.\n",
    "1. There are four main levels of measurement:\n",
    "2. Ordinal Level:\n",
    "3. Interval Level:\n",
    "4. Ratio Level:\n",
    "\n",
    "\n",
    "#### Nominal Level (Categorical Data):\n",
    "At the nominal level, data consists of categories or labels without any inherent order or numerical value. Each category represents a distinct group, and there is no meaningful way to perform arithmetic operations on the data.\n",
    "\n",
    "#### Example: \n",
    "Eye color (blue, brown, green) or types of animals (dog, cat, bird).\n",
    "\n",
    "#### Ordinal Level:\n",
    "Ordinal data also represents categories, but these categories have a meaningful order or ranking. However, the differences between the categories are not necessarily equal or quantifiable.\n",
    "\n",
    "##### Example:\n",
    "Educational levels (high school diploma, bachelor's degree, master's degree) or customer satisfaction ratings (very unsatisfied, unsatisfied, neutral, satisfied, very satisfied).\n",
    "\n",
    "##### Interval Level:\n",
    "Interval data represents numerical values where the differences between data points are meaningful and consistent. However, there is no true zero point, meaning that a value of zero does not indicate the absence of the attribute being measured.\n",
    "\n",
    "#### Example: \n",
    "Temperature measured in Celsius or Fahrenheit. The difference between 10°C and 20°C is the same as the difference between 20°C and 30°C, but zero degrees Celsius does not mean the absence of temperature.\n",
    "\n",
    "\n",
    "##### Ratio Level:\n",
    "Ratio data is similar to interval data but has a true zero point, indicating the absence of the attribute being measured. Ratio data allows for arithmetic operations like addition, subtraction, multiplication, and division.\n",
    "\n",
    "##### Example: \n",
    "Height, weight, and age. A person who is 2 meters tall is twice as tall as someone who is 1 meter tall, and a weight of 0 kg indicates the absence of weight.\n"
   ]
  },
  {
   "cell_type": "markdown",
   "id": "c74ce8ad-02e0-482d-abf6-2fe645eeaab0",
   "metadata": {},
   "source": [
    "### Q6. Why is it important to understand the level of measurement when analyzing data? Provide an example to illustrate your answer."
   ]
  },
  {
   "cell_type": "markdown",
   "id": "e73a2064-42b7-4daf-be34-fa4a32007f87",
   "metadata": {},
   "source": [
    "Understanding the level of measurement is crucial when analyzing data because it determines the appropriate statistical methods and operations that can be applied to the data. Different levels of measurement have different properties and restrictions, and using the wrong statistical techniques can lead to incorrect or misleading conclusions.\n",
    "\n",
    "\n",
    "\n",
    "#### 1. Selecting the Right Statistical Methods: \n",
    "\n",
    "Each level of measurement requires specific statistical methods for analysis. For example, nominal data requires non-parametric tests, while interval or ratio data can be analyzed using parametric tests. If the wrong statistical method is used, the results may be invalid or unreliable.\n",
    "\n",
    "#### 2. Avoiding Misinterpretations: \n",
    "Understanding the level of measurement helps avoid misinterpretations of the data. Treating ordinal data as if it were interval data, for instance, can lead to incorrect assumptions about the magnitude of differences between categories.\n",
    "\n",
    "#### 3. Identifying Appropriate Visualizations: \n",
    "Different levels of measurement require different types of data visualizations. Using the wrong visualization can obscure patterns in the data or present misleading information.\n",
    "\n",
    "Example:\n",
    "\n",
    "Let's consider a scenario where we have data on the level of education completed by a group of individuals, which is measured as follows:\n",
    "\n",
    "Elementary School (Nominal)\n",
    "High School (Nominal)\n",
    "Associate's Degree (Ordinal)\n",
    "Bachelor's Degree (Ordinal)\n",
    "Master's Degree (Ordinal)\n",
    "Doctorate (Ordinal)\n",
    "Suppose we want to determine if there is a significant difference in income between individuals with a bachelor's degree and individuals with a master's degree.\n",
    "\n",
    "If we incorrectly treat the education level as interval data and calculate the mean income for each category, we might get the following:\n",
    "\n",
    "Mean income for Bachelor's Degree holders: $50,000\n",
    "Mean income for Master's Degree holders: $60,000\n",
    "Based on this analysis, we may conclude that individuals with a master's degree earn $10,000 more than individuals with a bachelor's degree.\n",
    "\n",
    "However, this conclusion would be incorrect because education level is an ordinal variable, not an interval variable. The ordinal scale only indicates the ranking of categories and not the magnitude of differences between them.\n",
    "\n",
    "To analyze this data correctly, we should use appropriate non-parametric tests or ordinal regression models to determine if there is a significant difference in income between the two groups. Treating education level as ordinal data and using appropriate statistical methods will yield valid and interpretable results."
   ]
  },
  {
   "cell_type": "markdown",
   "id": "9f8ae03e-6b6d-48d9-b666-a27ea3197ee9",
   "metadata": {},
   "source": [
    "### Q7. How nominal data type is different from ordinal data type"
   ]
  },
  {
   "cell_type": "markdown",
   "id": "0d9d7a71-e995-42e2-a1ab-05cf3efc974c",
   "metadata": {},
   "source": [
    "The main difference between nominal data and ordinal data is that nominal data has categories without any order, while ordinal data has categories with a meaningful order or ranking, but the differences between categories are not necessarily equal."
   ]
  },
  {
   "cell_type": "markdown",
   "id": "7a307411-bd65-41a8-a173-11eef75c977a",
   "metadata": {},
   "source": [
    "### Q8. Which type of plot can be used to display data in terms of range?"
   ]
  },
  {
   "cell_type": "markdown",
   "id": "cc5539c3-b797-44b0-b638-1a3d895a2bf8",
   "metadata": {},
   "source": [
    " Box plots"
   ]
  },
  {
   "cell_type": "markdown",
   "id": "3b138743-0029-4bf5-8c8d-6ec3520946ca",
   "metadata": {},
   "source": [
    "### Q9. Describe the difference between descriptive and inferential statistics. Give an example of each type of statistics and explain how they are used."
   ]
  },
  {
   "cell_type": "markdown",
   "id": "5e418b72-f2ce-434a-9c4b-caf2cb0728c9",
   "metadata": {},
   "source": [
    "#### Diffrence :\n",
    "Descriptive statistics provide a summary of the features or attributes of a dataset, while inferential statistics enable hypothesis testing and evaluation of the applicability of the data to a larger population.\n",
    "\n",
    "#### Descriptive statistics :\n",
    "-------------------------------------\n",
    "In this we use the measure of central tendancy like mean median mode and measure of dispursion\n",
    "\n",
    "##### Example :\n",
    "Suppose we have data on the ages of a group of people: 25, 28, 32, 40, and 45 years. Using descriptive statistics, we can calculate measures like the mean, median, and standard deviation to summarize the data. The mean (average) age would be (25 + 28 + 32 + 40 + 45) / 5 = 34 years. The median (middle value) is 32 years, and the standard deviation measures the spread of the data around the mean.\n",
    "\n",
    "\n",
    "#### Inferential statistics :\n",
    "-------------------------------------------\n",
    "In this we use the Regression Analysis, Hypothesis Tests and Confidence Intervals\n",
    "\n",
    "\n",
    "\n",
    "##### Example:\n",
    "Let's say a company wants to estimate the average income of all its customers. Instead of surveying every customer, which may be time-consuming and costly, they take a random sample of customers and calculate the average income from that sample. Inferential statistics allow the company to use this sample data to make an inference about the average income of all its customers.\n",
    "\n"
   ]
  },
  {
   "cell_type": "markdown",
   "id": "c3f3254e-625c-4196-a499-747ef3e6f897",
   "metadata": {},
   "source": [
    "### Q10. What are some common measures of central tendency and variability used in statistics? Explain how each measure can be used to describe a dataset."
   ]
  },
  {
   "cell_type": "markdown",
   "id": "2b4b0bce-6694-459c-9ee0-432a9c3da1e2",
   "metadata": {},
   "source": [
    "#### 1. Mean:\n",
    "-------------------------\n",
    "The mean, also known as the average, is the sum of all data points divided by the total number of data points in the dataset. It represents the \"center\" of the data distribution.\n",
    "\n",
    "##### Example: \n",
    "Consider the dataset {10, 15, 20, 25, 30}. The mean would be (10 + 15 + 20 + 25 + 30) / 5 = 20.\n",
    "\n",
    "##### Use:\n",
    "The mean is useful when you want to find the typical value or average value of the dataset. However, it can be sensitive to extreme values, known as outliers, which can heavily influence its value.\n",
    "\n",
    "#### 2. Median:\n",
    "-------------------------------------\n",
    "The median is the middle value of a dataset when it is arranged in ascending or descending order. It divides the data into two equal halves.\n",
    "\n",
    "###### Example:\n",
    "For the dataset {10, 15, 20, 25, 30}, the median is 20.\n",
    "\n",
    "##### Use:\n",
    "The median is valuable when the dataset contains extreme values or is not normally distributed, as it is less affected by outliers compared to the mean.\n",
    "\n",
    "#### 3. Mode:\n",
    "---------------------------\n",
    "The mode is the value that appears most frequently in the dataset. A dataset can have one mode (unimodal), two modes (bimodal), or more (multimodal).\n",
    "\n",
    "##### Example: \n",
    "For the dataset {10, 15, 20, 20, 25, 30, 30}, the mode is 20 and 30.\n",
    "\n",
    "##### Use: \n",
    "The mode is helpful when dealing with categorical data or when identifying the most frequently occurring value in a dataset.\n",
    "\n",
    "Measures of Variability:\n",
    "\n",
    "#### 4. Range:\n",
    "----------------------------\n",
    "The range is the difference between the largest and smallest values in the dataset. It provides a measure of the spread of data.\n",
    "\n",
    "##### Example:\n",
    "For the dataset {10, 15, 20, 25, 30}, the range is 30 - 10 = 20.\n",
    "\n",
    "###### \n",
    "Use: The range is simple to compute but is sensitive to extreme values and may not fully represent the variability of the dataset.\n",
    "\n",
    "#### 5. Variance:\n",
    "---------------------------\n",
    "Variance measures the average squared deviation of data points from the mean. It quantifies the spread of data around the mean.\n",
    "\n",
    "##### Example: \n",
    "For the dataset {10, 15, 20, 25, 30}, the variance can be calculated as follows:\n",
    "\n",
    "Variance = [(10 - 20)^2 + (15 - 20)^2 + (20 - 20)^2 + (25 - 20)^2 + (30 - 20)^2] / 5 ≈ 50\n",
    "\n",
    "###### Use:\n",
    "Variance is useful for understanding the spread of data, but its units are squared, which can be hard to interpret. To overcome this, the square root of the variance is used, resulting in the standard deviation.\n",
    "\n",
    "#### 6. Standard Deviation:\n",
    "----------------------------------------\n",
    "The standard deviation is the square root of the variance. It is a widely used measure of variability and provides a more interpretable value than the variance.\n",
    "\n",
    "##### Example: \n",
    "For the dataset {10, 15, 20, 25, 30}, the standard deviation is approximately √50 ≈ 7.07."
   ]
  },
  {
   "cell_type": "code",
   "execution_count": null,
   "id": "ea8b572e-41ae-4bc5-82e1-e87b8c87375f",
   "metadata": {},
   "outputs": [],
   "source": []
  },
  {
   "cell_type": "code",
   "execution_count": null,
   "id": "37568ad3-dd07-438f-8c73-6703ce2073bb",
   "metadata": {},
   "outputs": [],
   "source": []
  },
  {
   "cell_type": "code",
   "execution_count": null,
   "id": "3455b5dc-d90f-4856-a562-f39185861ce9",
   "metadata": {},
   "outputs": [],
   "source": []
  },
  {
   "cell_type": "code",
   "execution_count": null,
   "id": "31a6138d-0fce-4466-8362-e79a1fd4d08d",
   "metadata": {},
   "outputs": [],
   "source": []
  },
  {
   "cell_type": "code",
   "execution_count": null,
   "id": "568c500e-23a1-4bef-904c-3a998117d4b2",
   "metadata": {},
   "outputs": [],
   "source": []
  },
  {
   "cell_type": "code",
   "execution_count": null,
   "id": "65c240ea-f846-4c92-8a0b-7e35daf0830c",
   "metadata": {},
   "outputs": [],
   "source": []
  },
  {
   "cell_type": "code",
   "execution_count": null,
   "id": "864ca384-45a1-47cb-aa22-00ac1ac070c3",
   "metadata": {},
   "outputs": [],
   "source": []
  },
  {
   "cell_type": "code",
   "execution_count": null,
   "id": "a66c40c9-684d-4978-a540-f858968c0250",
   "metadata": {},
   "outputs": [],
   "source": []
  },
  {
   "cell_type": "code",
   "execution_count": null,
   "id": "bc05d051-24ae-4c65-9c90-d0e66b99d09f",
   "metadata": {},
   "outputs": [],
   "source": []
  },
  {
   "cell_type": "code",
   "execution_count": null,
   "id": "469c4d13-5901-4225-a3fa-c83e3e7cdac0",
   "metadata": {},
   "outputs": [],
   "source": []
  },
  {
   "cell_type": "code",
   "execution_count": null,
   "id": "5701c8a9-167c-4e99-9a6b-b0c419c289ab",
   "metadata": {},
   "outputs": [],
   "source": []
  },
  {
   "cell_type": "code",
   "execution_count": null,
   "id": "1b29ce20-64f2-44a1-8b1f-7d10af9d2b02",
   "metadata": {},
   "outputs": [],
   "source": []
  }
 ],
 "metadata": {
  "kernelspec": {
   "display_name": "Python 3 (ipykernel)",
   "language": "python",
   "name": "python3"
  },
  "language_info": {
   "codemirror_mode": {
    "name": "ipython",
    "version": 3
   },
   "file_extension": ".py",
   "mimetype": "text/x-python",
   "name": "python",
   "nbconvert_exporter": "python",
   "pygments_lexer": "ipython3",
   "version": "3.10.8"
  }
 },
 "nbformat": 4,
 "nbformat_minor": 5
}
